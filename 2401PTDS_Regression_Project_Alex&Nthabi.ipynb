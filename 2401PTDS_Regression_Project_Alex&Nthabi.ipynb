{
 "cells": [
  {
   "cell_type": "markdown",
   "id": "8e9a5b2f-6237-435b-8372-53105503ddca",
   "metadata": {},
   "source": [
    "<div align=\"center\" style=\" font-size: 80%; text-align: center; margin: 0 auto\">\r\n",
    "<img src=\"https://raw.githubusercontent.com/Explore-AI/Pictures/master/Python-Notebook-Banners/Code_challenge.png\"  style=\"display: block; margin-left: auto; margin-right: auto;\";/>\r\n",
    "</div>"
   ]
  },
  {
   "cell_type": "markdown",
   "id": "c9d972fd-b259-4a74-a10a-24a529421c80",
   "metadata": {},
   "source": [
    "# Regression Project: Nthabiseng Moyeni & Alex Masina\r\n",
    "© ExploreAI Academy"
   ]
  },
  {
   "cell_type": "code",
   "execution_count": null,
   "id": "0294cd16-7b8e-4a3c-b07c-ff5399afb31d",
   "metadata": {},
   "outputs": [],
   "source": []
  }
 ],
 "metadata": {
  "kernelspec": {
   "display_name": "Python 3 (ipykernel)",
   "language": "python",
   "name": "python3"
  },
  "language_info": {
   "codemirror_mode": {
    "name": "ipython",
    "version": 3
   },
   "file_extension": ".py",
   "mimetype": "text/x-python",
   "name": "python",
   "nbconvert_exporter": "python",
   "pygments_lexer": "ipython3",
   "version": "3.10.4"
  }
 },
 "nbformat": 4,
 "nbformat_minor": 5
}
